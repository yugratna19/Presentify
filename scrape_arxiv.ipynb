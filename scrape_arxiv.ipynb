{
 "cells": [
  {
   "cell_type": "code",
   "execution_count": 3,
   "metadata": {},
   "outputs": [],
   "source": [
    "from bs4 import BeautifulSoup\n",
    "import pandas as pd\n",
    "import requests"
   ]
  },
  {
   "cell_type": "code",
   "execution_count": 4,
   "metadata": {},
   "outputs": [],
   "source": [
    "url='https://arxiv.org/search/advanced?advanced=&terms-0-operator=AND&terms-0-term=&terms-0-field=title&classification-computer_science=y&classification-physics_archives=all&classification-include_cross_list=include&date-filter_by=all_dates&date-year=&date-from_date=&date-to_date=&date-date_type=submitted_date&abstracts=show&size=50&order=-announced_date_first&start=0'\n",
    "response = requests.get(url)\n",
    "response = response.content\n",
    "pattern = ''"
   ]
  },
  {
   "cell_type": "code",
   "execution_count": 5,
   "metadata": {},
   "outputs": [],
   "source": [
    "soup = BeautifulSoup(response,'html.parser')\n"
   ]
  },
  {
   "cell_type": "code",
   "execution_count": 27,
   "metadata": {},
   "outputs": [],
   "source": [
    "papers = soup.find_all('li', class_='arxiv-result')\n",
    "df = pd.DataFrame()\n",
    "all_data =[]\n",
    "for i in range(len(papers)):\n",
    "    title = papers[i].find('p',class_='title')\n",
    "    authors = papers[i].find_all('p',class_='authors')\n",
    "    noob_authors = []\n",
    "    single = ''\n",
    "    for author in authors:\n",
    "        author_names = author.find_all('a')\n",
    "        for author_name in author_names:\n",
    "            noob_authors.append(author_name.text)\n",
    "    abstracts = papers[i].find('span',class_='abstract-full')\n",
    "    single = ', '.join(noob_authors)\n",
    "    \n",
    "    pdf_link = papers[i].find('span')\n",
    "    pdf_link = pdf_link.find('a')\n",
    "    noob_data = {'title':'','authors':'','abstract':'','pdf_link':''}\n",
    "    noob_data['title'] = title.text.strip()\n",
    "    noob_data['authors'] = single\n",
    "    noob_data['abstract'] = abstracts.text\n",
    "    noob_data['pdf_link'] = pdf_link['href']\n",
    "    # print(noob_data)\n",
    "    all_data.append(noob_data)\n",
    "    # print(df)\n",
    "    # df.to_csv('wow.csv')\n",
    "df = df.from_dict(all_data)\n",
    "df.to_excel('atuldada.xlsx')\n",
    "    # data[i+1] = noob_data\n",
    "# df = pd.DataFrame()\n",
    "# for i in range(len(data)):\n",
    "#     df = df.from_dict(data[i+1])\n",
    "\n",
    "    \n",
    "\n"
   ]
  }
 ],
 "metadata": {
  "kernelspec": {
   "display_name": "venv",
   "language": "python",
   "name": "python3"
  },
  "language_info": {
   "codemirror_mode": {
    "name": "ipython",
    "version": 3
   },
   "file_extension": ".py",
   "mimetype": "text/x-python",
   "name": "python",
   "nbconvert_exporter": "python",
   "pygments_lexer": "ipython3",
   "version": "3.10.1"
  }
 },
 "nbformat": 4,
 "nbformat_minor": 2
}
