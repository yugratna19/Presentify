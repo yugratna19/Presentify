{
 "cells": [
  {
   "cell_type": "code",
   "execution_count": 2,
   "metadata": {},
   "outputs": [],
   "source": [
    "# !pip install BeautifulSoup4 pandas requests "
   ]
  },
  {
   "cell_type": "code",
   "execution_count": 16,
   "metadata": {},
   "outputs": [],
   "source": [
    "from bs4 import BeautifulSoup\n",
    "import pandas as pd\n",
    "import requests"
   ]
  },
  {
   "cell_type": "code",
   "execution_count": 35,
   "metadata": {},
   "outputs": [],
   "source": [
    "all_data =[]\n",
    "for i in range(1):\n",
    "    num = 150\n",
    "    url='https://arxiv.org/search/advanced?advanced=&terms-0-operator=AND&terms-0-term=&terms-0-field=title&classification-computer_science=y&classification-physics_archives=all&classification-include_cross_list=include&date-filter_by=all_dates&date-year=&date-from_date=&date-to_date=&date-date_type=submitted_date&abstracts=show&size=50&order=-announced_date_first&start='+str(num)\n",
    "    response = requests.get(url)\n",
    "    response = response.content\n",
    "\n",
    "    soup = BeautifulSoup(response,'html.parser')\n",
    "\n",
    "    papers = soup.find_all('li', class_='arxiv-result')\n",
    "    df = pd.DataFrame()\n",
    "    for i in range(len(papers)):\n",
    "        title = papers[i].find('p',class_='title')\n",
    "        authors = papers[i].find_all('p',class_='authors')\n",
    "        noob_authors = []\n",
    "        single = ''\n",
    "        for author in authors:\n",
    "            author_names = author.find_all('a')\n",
    "            for author_name in author_names:\n",
    "                noob_authors.append(author_name.text)\n",
    "        abstracts = papers[i].find('span',class_='abstract-full')\n",
    "        single = ', '.join(noob_authors)\n",
    "        \n",
    "        pdf_link = papers[i].find('span')\n",
    "        pdf_link = pdf_link.find('a')\n",
    "        noob_data = {'title':'','authors':'','abstract':'','pdf_link':''}\n",
    "        noob_data['title'] = title.text.strip()\n",
    "        noob_data['authors'] = single\n",
    "        noob_data['abstract'] = abstracts.text\n",
    "        noob_data['pdf_link'] = pdf_link['href']\n",
    "        # print(noob_data)\n",
    "        all_data.append(noob_data)\n",
    "    num+=50\n",
    "df = pd.DataFrame.from_dict(all_data)"
   ]
  },
  {
   "cell_type": "code",
   "execution_count": 36,
   "metadata": {},
   "outputs": [
    {
     "name": "stdout",
     "output_type": "stream",
     "text": [
      "Attendre Wait To Attend By Retrieval With Evicted Queries in MemoryBased Transformers for Long Context Processing\n",
      "1\n",
      "2\n",
      "3\n",
      "4\n",
      "5\n",
      "6\n",
      "7\n",
      "8\n",
      "9\n",
      "10\n",
      "11\n",
      "12\n",
      "13\n",
      "14\n",
      "15\n",
      "16\n",
      "17\n",
      "18\n",
      "19\n",
      "20\n",
      "21\n",
      "22\n",
      "23\n",
      "24\n",
      "25\n",
      "26\n",
      "27\n",
      "28\n",
      "29\n",
      "30\n",
      "31\n",
      "32\n",
      "33\n",
      "34\n",
      "35\n",
      "36\n",
      "37\n",
      "38\n",
      "39\n",
      "40\n",
      "41\n",
      "42\n",
      "43\n",
      "44\n",
      "45\n",
      "46\n",
      "47\n",
      "48\n",
      "49\n",
      "50\n"
     ]
    }
   ],
   "source": [
    "df['title'] = df['title'].replace('[^a-zA-Z0-9\\s]', '', regex=True)\n",
    "print(df['title'].iloc[10])\n",
    "\n",
    "count = 0\n",
    "for pdf_url in df['pdf_link']:\n",
    "    count +=1\n",
    "    print(count)\n",
    "    pdf_path = 'pdfs for presentify'\n",
    "    pdf_name =  pdf_path + '\\\\' + df['title'][count-1] +'.pdf'\n",
    "    response = requests.get(pdf_url)\n",
    "    with open(pdf_name, 'wb') as f:\n",
    "        f.write(response.content)\n"
   ]
  }
 ],
 "metadata": {
  "kernelspec": {
   "display_name": "venv",
   "language": "python",
   "name": "python3"
  },
  "language_info": {
   "codemirror_mode": {
    "name": "ipython",
    "version": 3
   },
   "file_extension": ".py",
   "mimetype": "text/x-python",
   "name": "python",
   "nbconvert_exporter": "python",
   "pygments_lexer": "ipython3",
   "version": "3.10.1"
  }
 },
 "nbformat": 4,
 "nbformat_minor": 2
}
